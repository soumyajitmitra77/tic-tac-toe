{
 "cells": [
  {
   "cell_type": "code",
   "execution_count": 22,
   "id": "a55f908a",
   "metadata": {},
   "outputs": [],
   "source": [
    "import numpy as np\n",
    "import matplotlib as pyplt\n",
    "\n",
    "def load_data():\n",
    "    #load data from csv file, we use 'genfromtxt' because numpy is designed to work with numbers and not strings\n",
    "    data = np.genfromtxt('./tic-tac-toe copy.csv', delimiter = ',', dtype = 'str')\n",
    "\n",
    "    #so we convert the data to numbers\n",
    "    #lets assign 'x' = 4, 'b' = 5, 'o' = 6, 'positive' = '1' and 'negative' = '0'\n",
    "    data[data == 'x'] = 4\n",
    "    data[data == 'b'] = 5\n",
    "    data[data == 'o'] = 6\n",
    "    data[data == 'positive'] = 1\n",
    "    data[data == 'negative'] = 0\n",
    "\n",
    "    data = data.astype(int)\n",
    "\n",
    "    #splitting the features and outputs into seperate arrays\n",
    "    x = data[:, 0:9]\n",
    "    y = data[:, 9:]\n",
    "\n",
    "    #print(data[1])\n",
    "    #print(x[:10])\n",
    "    #print(y[:10])\n",
    "\n",
    "    #converting 1-D array to 2-D array\n",
    "    #x = np.expand_dims(x, axis = 1)\n",
    "    #y = np.expand_dims(y, axis = 1)\n",
    "\n",
    "    return(x, y)"
   ]
  },
  {
   "cell_type": "code",
   "execution_count": 24,
   "id": "af255ea1",
   "metadata": {},
   "outputs": [
    {
     "name": "stdout",
     "output_type": "stream",
     "text": [
      "[[1]\n",
      " [1]\n",
      " [1]\n",
      " [1]\n",
      " [1]\n",
      " [1]\n",
      " [1]\n",
      " [1]\n",
      " [1]\n",
      " [1]]\n"
     ]
    }
   ],
   "source": [
    "X, Y = load_data()\n",
    "print(Y[:10])"
   ]
  },
  {
   "cell_type": "code",
   "execution_count": null,
   "id": "ad6f02c2",
   "metadata": {},
   "outputs": [],
   "source": []
  }
 ],
 "metadata": {
  "kernelspec": {
   "display_name": "Python 3 (ipykernel)",
   "language": "python",
   "name": "python3"
  },
  "language_info": {
   "codemirror_mode": {
    "name": "ipython",
    "version": 3
   },
   "file_extension": ".py",
   "mimetype": "text/x-python",
   "name": "python",
   "nbconvert_exporter": "python",
   "pygments_lexer": "ipython3",
   "version": "3.8.5"
  }
 },
 "nbformat": 4,
 "nbformat_minor": 5
}
